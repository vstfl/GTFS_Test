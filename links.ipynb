{
  "cells": [
    {
      "cell_type": "code",
      "execution_count": 1,
      "metadata": {},
      "outputs": [],
      "source": [
        "import polars as pl\n",
        "import seaborn as sb\n",
        "import gtfs_delay_analysis as da"
      ]
    },
    {
      "cell_type": "code",
      "execution_count": 4,
      "metadata": {},
      "outputs": [],
      "source": [
        "aggregated = da.load_aggregate_data()\n",
        "stops = pl.read_parquet('data/stops.parquet')\n",
        "raw_dfs = da.load_raw_data()"
      ]
    },
    {
      "cell_type": "code",
      "execution_count": 5,
      "metadata": {},
      "outputs": [],
      "source": [
        "trips = da.trips.load_trips_without_shapes_df()\n",
        "str_shapes = da.trips.load_str_shapes_df()\n",
        "shapes = da.trips.load_parsed_shapes_df()\n",
        "sequences = pl.read_parquet('stop-sequences.parquet')"
      ]
    },
    {
      "cell_type": "code",
      "execution_count": 6,
      "metadata": {},
      "outputs": [],
      "source": [
        "all_004 =aggregated.join(trips, left_on='id', right_on='trip_id').filter(\n",
        "    pl.col(\"shape_id\").eq(\"004-171-East\")\n",
        ")\n",
        "\n",
        "# Delay\n",
        "# Derivative of delay"
      ]
    },
    {
      "cell_type": "code",
      "execution_count": 7,
      "metadata": {},
      "outputs": [],
      "source": [
        "df = (\n",
        "all_004.with_columns(pl.col('stopid').cast(pl.Utf8))\n",
        ".join(\n",
        "    sequences.with_columns(pl.col('stop_id').cast(pl.Utf8)),\n",
        "    left_on=['id', 'stopid'],\n",
        "    right_on=['trip_id', 'stop_id'],\n",
        ")\n",
        ".group_by('id', 'stopid', 'stop_sequence').agg(\n",
        "    pl.col('meandelay').mean(),\n",
        ")\n",
        ".sort('id', 'stop_sequence')\n",
        ")\n",
        "\n",
        "specific_trip = df.filter(pl.col('id').eq(25536739))"
      ]
    },
    {
      "cell_type": "code",
      "execution_count": 8,
      "metadata": {},
      "outputs": [],
      "source": [
        "def reorder_stops(df:pl.DataFrame, stop_id:str):\n",
        "    stop_idx =df.filter(pl.col('stopid').eq(stop_id))['stop_sequence'][0]\n",
        "    max_idx=df['stop_sequence'].max()\n",
        "    df['stop_sequence'].max()\n",
        "    return df.with_columns(\n",
        "        pl.col('stop_sequence').sub(stop_idx).mod(max_idx)\n",
        "    ).sort('stop_sequence')\n",
        "\n",
        "\n"
      ]
    },
    {
      "cell_type": "code",
      "execution_count": 9,
      "metadata": {},
      "outputs": [],
      "source": [
        "def add_stops(df: pl.DataFrame):\n",
        "    return (\n",
        "        df\n",
        "    .with_row_index()\n",
        "        .with_columns(pl.col('line').str.split('-'))\n",
        "    .with_columns(\n",
        "        pl.col('line').list.get(0).alias('a'),\n",
        "        pl.col('line').list.get(1).alias('b'),\n",
        "    )\n",
        "    .drop('line')\n",
        "    .join(stops.select('stop_id', a_lon='stop_lon', a_lat='stop_lat'), left_on='a', right_on='stop_id')\n",
        "    .join(stops.select('stop_id', b_lon='stop_lon', b_lat='stop_lat'), left_on='b', right_on='stop_id')\n",
        "    .sort('index')\n",
        "    .drop('index')\n",
        "    )"
      ]
    },
    {
      "cell_type": "code",
      "execution_count": 10,
      "metadata": {},
      "outputs": [],
      "source": [
        "from gtfs_delay_analysis.ddelay import get_ddelay,plot_ddelay\n",
        "\n",
        "def ddelay_with_seq(d:pl.DataFrame):\n",
        "    return (\n",
        "        d.join(stops, left_on='stopid',right_on='stop_id')\n",
        "        .with_columns( trip_id='id')\n",
        "        .sort('stop_sequence')\n",
        "        # .pipe(lambda d: display(d) or d)\n",
        "        .with_row_index()\n",
        "        .pipe(get_ddelay)\n",
        "    )\n",
        "\n",
        "def save(df:pl.DataFrame,name:str):\n",
        "    import os\n",
        "    write_path ='~/Downloads/GTFS'\n",
        "    return df.write_csv(os.path.join(write_path, name))\n",
        "\n",
        "def pre_process(df:pl.DataFrame):\n",
        "    return df .pipe(ddelay_with_seq) .drop('trip_id') .pipe(add_stops) .with_row_index()\n",
        "\n",
        "with_coords =(\n",
        "df.group_by('stopid', 'stop_sequence')\n",
        ".agg( pl.col('meandelay').mean())\n",
        ".with_columns(id=0)\n",
        ".pipe(reorder_stops, \"2002\")\n",
        ".pipe(pre_process)\n",
        "# .pipe(plot_ddelay)\n",
        "# .pipe(save,'ddelay-all-4.csv')\n",
        ")\n",
        "\n",
        "# specific_trip.pipe(reorder_stops, \"2002\").pipe(ddelay_with_seq).pipe(save, 'ddelay-25536739.csv')\n",
        "all_points = shapes.filter(pl.col('shape_id').eq('004-171-East')).explode('geometry_line').rename({\n",
        "    'geometry_line':'points',\n",
        "}).with_row_index()\n",
        "\n",
        "# with_coords\n",
        "points = all_points.select(\n",
        "    'index','shape_id',\n",
        "    lon=pl.col('points').struct.field('lon'),\n",
        "    lat=pl.col('points').struct.field('lat'),\n",
        ")\n"
      ]
    },
    {
      "cell_type": "code",
      "execution_count": 12,
      "metadata": {},
      "outputs": [],
      "source": [
        "(df.group_by('stopid', 'stop_sequence')\n",
        ".agg( pl.col('meandelay').mean())\n",
        ".with_columns(id=0)\n",
        ".pipe(reorder_stops, \"2002\")\n",
        ").pipe(save, 'heading-stops.csv')"
      ]
    },
    {
      "cell_type": "code",
      "execution_count": 13,
      "metadata": {},
      "outputs": [],
      "source": [
        "pp = points.with_columns(\n",
        "    pl.col('index').sub(1).alias('prev')\n",
        ").join(points,left_on='prev',right_on='index').select(\n",
        "    index='prev',\n",
        "    a_lon='lon',\n",
        "    a_lat='lat',\n",
        "    b_lon='lon_right',\n",
        "    b_lat='lat_right',\n",
        ")\n",
        "with_coords.head(12).pipe(save, 'coords.csv')"
      ]
    },
    {
      "cell_type": "code",
      "execution_count": 14,
      "metadata": {},
      "outputs": [],
      "source": [
        "str_shapes.filter(pl.col('shape_id').eq('004-171-East')).pipe(save ,'actual-shape.csv')"
      ]
    },
    {
      "cell_type": "code",
      "execution_count": 15,
      "metadata": {},
      "outputs": [
        {
          "data": {
            "text/html": [
              "<div><style>\n",
              ".dataframe > thead > tr,\n",
              ".dataframe > tbody > tr {\n",
              "  text-align: right;\n",
              "  white-space: pre-wrap;\n",
              "}\n",
              "</style>\n",
              "<small>shape: (39, 16)</small><table border=\"1\" class=\"dataframe\"><thead><tr><th>index</th><th>id</th><th>stopid</th><th>stop_sequence</th><th>meandelay</th><th>stop_code</th><th>stop_name</th><th>stop_desc</th><th>stop_lat</th><th>stop_lon</th><th>zone_id</th><th>stop_url</th><th>location_type</th><th>parent_station</th><th>geometry_point</th><th>trip_id</th></tr><tr><td>u32</td><td>i64</td><td>str</td><td>i8</td><td>f64</td><td>str</td><td>str</td><td>str</td><td>f64</td><td>f64</td><td>str</td><td>str</td><td>i64</td><td>str</td><td>str</td><td>i64</td></tr></thead><tbody><tr><td>0</td><td>25536739</td><td>&quot;8602&quot;</td><td>1</td><td>123.014384</td><td>&quot;8602&quot;</td><td>&quot;Lewis Farms Tr…</td><td>null</td><td>53.523196</td><td>-113.666821</td><td>&quot;1EDM&quot;</td><td>null</td><td>0</td><td>null</td><td>&quot;POINT (-113.66…</td><td>25536739</td></tr><tr><td>1</td><td>25536739</td><td>&quot;5783&quot;</td><td>2</td><td>437.673968</td><td>&quot;5783&quot;</td><td>&quot;187 Street &amp; 8…</td><td>null</td><td>53.521312</td><td>-113.646668</td><td>&quot;1EDM&quot;</td><td>null</td><td>0</td><td>null</td><td>&quot;POINT (-113.64…</td><td>25536739</td></tr><tr><td>2</td><td>25536739</td><td>&quot;5820&quot;</td><td>3</td><td>418.604882</td><td>&quot;5820&quot;</td><td>&quot;186 Street &amp; 8…</td><td>null</td><td>53.52138</td><td>-113.643161</td><td>&quot;1EDM&quot;</td><td>null</td><td>0</td><td>null</td><td>&quot;POINT (-113.64…</td><td>25536739</td></tr><tr><td>3</td><td>25536739</td><td>&quot;5737&quot;</td><td>4</td><td>433.124015</td><td>&quot;5737&quot;</td><td>&quot;182 Street &amp; 8…</td><td>null</td><td>53.521484</td><td>-113.639395</td><td>&quot;1EDM&quot;</td><td>null</td><td>0</td><td>null</td><td>&quot;POINT (-113.63…</td><td>25536739</td></tr><tr><td>4</td><td>25536739</td><td>&quot;5654&quot;</td><td>5</td><td>422.573933</td><td>&quot;5654&quot;</td><td>&quot;182 Street &amp; 8…</td><td>null</td><td>53.521506</td><td>-113.636575</td><td>&quot;1EDM&quot;</td><td>null</td><td>0</td><td>null</td><td>&quot;POINT (-113.63…</td><td>25536739</td></tr><tr><td>&hellip;</td><td>&hellip;</td><td>&hellip;</td><td>&hellip;</td><td>&hellip;</td><td>&hellip;</td><td>&hellip;</td><td>&hellip;</td><td>&hellip;</td><td>&hellip;</td><td>&hellip;</td><td>&hellip;</td><td>&hellip;</td><td>&hellip;</td><td>&hellip;</td><td>&hellip;</td></tr><tr><td>34</td><td>25536739</td><td>&quot;2328&quot;</td><td>56</td><td>882.0</td><td>&quot;2328&quot;</td><td>&quot;79 Street &amp; 82…</td><td>null</td><td>53.517977</td><td>-113.44847</td><td>&quot;1EDM&quot;</td><td>null</td><td>0</td><td>null</td><td>&quot;POINT (-113.44…</td><td>25536739</td></tr><tr><td>35</td><td>25536739</td><td>&quot;2260&quot;</td><td>57</td><td>984.0</td><td>&quot;2260&quot;</td><td>&quot;75 Street &amp; 83…</td><td>null</td><td>53.518835</td><td>-113.442755</td><td>&quot;1EDM&quot;</td><td>null</td><td>0</td><td>null</td><td>&quot;POINT (-113.44…</td><td>25536739</td></tr><tr><td>36</td><td>25536739</td><td>&quot;2361&quot;</td><td>58</td><td>954.0</td><td>&quot;2361&quot;</td><td>&quot;75 Street &amp; 84…</td><td>null</td><td>53.520337</td><td>-113.442767</td><td>&quot;1EDM&quot;</td><td>null</td><td>0</td><td>null</td><td>&quot;POINT (-113.44…</td><td>25536739</td></tr><tr><td>37</td><td>25536739</td><td>&quot;22662&quot;</td><td>59</td><td>960.0</td><td>&quot;22662&quot;</td><td>&quot;75 Street &amp; 86…</td><td>null</td><td>53.521489</td><td>-113.442728</td><td>&quot;1EDM&quot;</td><td>null</td><td>0</td><td>null</td><td>&quot;POINT (-113.44…</td><td>25536739</td></tr><tr><td>38</td><td>25536739</td><td>&quot;22653&quot;</td><td>60</td><td>936.0</td><td>&quot;22653&quot;</td><td>&quot;75 Street &amp; 90…</td><td>null</td><td>53.524425</td><td>-113.442734</td><td>&quot;1EDM&quot;</td><td>null</td><td>0</td><td>null</td><td>&quot;POINT (-113.44…</td><td>25536739</td></tr></tbody></table></div>"
            ],
            "text/plain": [
              "shape: (39, 16)\n",
              "┌───────┬──────────┬────────┬─────────────┬───┬─────────────┬─────────────┬─────────────┬──────────┐\n",
              "│ index ┆ id       ┆ stopid ┆ stop_sequen ┆ … ┆ location_ty ┆ parent_stat ┆ geometry_po ┆ trip_id  │\n",
              "│ ---   ┆ ---      ┆ ---    ┆ ce          ┆   ┆ pe          ┆ ion         ┆ int         ┆ ---      │\n",
              "│ u32   ┆ i64      ┆ str    ┆ ---         ┆   ┆ ---         ┆ ---         ┆ ---         ┆ i64      │\n",
              "│       ┆          ┆        ┆ i8          ┆   ┆ i64         ┆ str         ┆ str         ┆          │\n",
              "╞═══════╪══════════╪════════╪═════════════╪═══╪═════════════╪═════════════╪═════════════╪══════════╡\n",
              "│ 0     ┆ 25536739 ┆ 8602   ┆ 1           ┆ … ┆ 0           ┆ null        ┆ POINT (-113 ┆ 25536739 │\n",
              "│       ┆          ┆        ┆             ┆   ┆             ┆             ┆ .666821     ┆          │\n",
              "│       ┆          ┆        ┆             ┆   ┆             ┆             ┆ 53.523196)  ┆          │\n",
              "│ 1     ┆ 25536739 ┆ 5783   ┆ 2           ┆ … ┆ 0           ┆ null        ┆ POINT (-113 ┆ 25536739 │\n",
              "│       ┆          ┆        ┆             ┆   ┆             ┆             ┆ .646668     ┆          │\n",
              "│       ┆          ┆        ┆             ┆   ┆             ┆             ┆ 53.521312)  ┆          │\n",
              "│ 2     ┆ 25536739 ┆ 5820   ┆ 3           ┆ … ┆ 0           ┆ null        ┆ POINT (-113 ┆ 25536739 │\n",
              "│       ┆          ┆        ┆             ┆   ┆             ┆             ┆ .643161     ┆          │\n",
              "│       ┆          ┆        ┆             ┆   ┆             ┆             ┆ 53.52138)   ┆          │\n",
              "│ 3     ┆ 25536739 ┆ 5737   ┆ 4           ┆ … ┆ 0           ┆ null        ┆ POINT (-113 ┆ 25536739 │\n",
              "│       ┆          ┆        ┆             ┆   ┆             ┆             ┆ .639395     ┆          │\n",
              "│       ┆          ┆        ┆             ┆   ┆             ┆             ┆ 53.521484)  ┆          │\n",
              "│ 4     ┆ 25536739 ┆ 5654   ┆ 5           ┆ … ┆ 0           ┆ null        ┆ POINT (-113 ┆ 25536739 │\n",
              "│       ┆          ┆        ┆             ┆   ┆             ┆             ┆ .636575     ┆          │\n",
              "│       ┆          ┆        ┆             ┆   ┆             ┆             ┆ 53.521506)  ┆          │\n",
              "│ …     ┆ …        ┆ …      ┆ …           ┆ … ┆ …           ┆ …           ┆ …           ┆ …        │\n",
              "│ 34    ┆ 25536739 ┆ 2328   ┆ 56          ┆ … ┆ 0           ┆ null        ┆ POINT       ┆ 25536739 │\n",
              "│       ┆          ┆        ┆             ┆   ┆             ┆             ┆ (-113.44847 ┆          │\n",
              "│       ┆          ┆        ┆             ┆   ┆             ┆             ┆ 53.517977)  ┆          │\n",
              "│ 35    ┆ 25536739 ┆ 2260   ┆ 57          ┆ … ┆ 0           ┆ null        ┆ POINT (-113 ┆ 25536739 │\n",
              "│       ┆          ┆        ┆             ┆   ┆             ┆             ┆ .442755     ┆          │\n",
              "│       ┆          ┆        ┆             ┆   ┆             ┆             ┆ 53.518835)  ┆          │\n",
              "│ 36    ┆ 25536739 ┆ 2361   ┆ 58          ┆ … ┆ 0           ┆ null        ┆ POINT (-113 ┆ 25536739 │\n",
              "│       ┆          ┆        ┆             ┆   ┆             ┆             ┆ .442767     ┆          │\n",
              "│       ┆          ┆        ┆             ┆   ┆             ┆             ┆ 53.520337)  ┆          │\n",
              "│ 37    ┆ 25536739 ┆ 22662  ┆ 59          ┆ … ┆ 0           ┆ null        ┆ POINT (-113 ┆ 25536739 │\n",
              "│       ┆          ┆        ┆             ┆   ┆             ┆             ┆ .442728     ┆          │\n",
              "│       ┆          ┆        ┆             ┆   ┆             ┆             ┆ 53.521489)  ┆          │\n",
              "│ 38    ┆ 25536739 ┆ 22653  ┆ 60          ┆ … ┆ 0           ┆ null        ┆ POINT (-113 ┆ 25536739 │\n",
              "│       ┆          ┆        ┆             ┆   ┆             ┆             ┆ .442734     ┆          │\n",
              "│       ┆          ┆        ┆             ┆   ┆             ┆             ┆ 53.524425)  ┆          │\n",
              "└───────┴──────────┴────────┴─────────────┴───┴─────────────┴─────────────┴─────────────┴──────────┘"
            ]
          },
          "execution_count": 15,
          "metadata": {},
          "output_type": "execute_result"
        }
      ],
      "source": [
        "specific_trip.join(stops, left_on='stopid',right_on='stop_id').sort('stop_sequence').with_columns(\n",
        "    trip_id='id'\n",
        ").with_row_index()"
      ]
    },
    {
      "cell_type": "code",
      "execution_count": 16,
      "metadata": {},
      "outputs": [],
      "source": [
        "shapes.filter(pl.col('shape_id').str.starts_with('004-171').or_(\n",
        "pl.col('shape_id').str.starts_with('004-172')\n",
        ")).explode('geometry_line').select(\n",
        "    'shape_id',\n",
        "    lon=pl.col('geometry_line').struct.field('lon'),\n",
        "    lat=pl.col('geometry_line').struct.field('lat'),\n",
        ").write_csv('~/Downloads/GTFS/004-East-shapes.csv')"
      ]
    },
    {
      "cell_type": "code",
      "execution_count": 17,
      "metadata": {},
      "outputs": [],
      "source": [
        "from geopy.distance import geodesic"
      ]
    },
    {
      "cell_type": "code",
      "execution_count": null,
      "metadata": {},
      "outputs": [],
      "source": []
    },
    {
      "cell_type": "code",
      "execution_count": 18,
      "metadata": {},
      "outputs": [],
      "source": [
        "def calculate_slope(df:pl.DataFrame):\n",
        "    return df.with_columns(\n",
        "        pl.struct(\n",
        "            lon1='a_lon',\n",
        "            lat1='a_lat',\n",
        "            lon2='b_lon',\n",
        "            lat2='b_lat',\n",
        "        ).map_elements(lambda x: geodesic((x['lat1'], x['lon1']), (x['lat2'], x['lon2'])).km).alias('distance')\n",
        "    ).with_columns(pl.col('ddelay').truediv('distance').alias('slope'))\n",
        "\n",
        "# with_coords.head(12).pipe(calculate_slope).pipe(save,'heading-slope.csv')\n",
        "specific_trip.pipe(reorder_stops, \"2002\").pipe(save,'specific-stops.csv')\n",
        "# .pipe(pre_process).head(12).pipe(calculate_slope).pipe(save,'specific-trip-slope.csv')"
      ]
    },
    {
      "cell_type": "code",
      "execution_count": 19,
      "metadata": {},
      "outputs": [],
      "source": [
        "import seaborn as sb"
      ]
    },
    {
      "cell_type": "code",
      "execution_count": null,
      "metadata": {},
      "outputs": [],
      "source": []
    },
    {
      "cell_type": "code",
      "execution_count": 20,
      "metadata": {},
      "outputs": [],
      "source": [
        "from io import StringIO\n",
        "df = pl.read_csv(StringIO(\"\"\"distance,meandelay,ddelay\n",
        "0.260948712,780,-132\n",
        "0.49200577,648,123\n",
        "0.762336063,771,-107\n",
        "1.105268809,664,86\n",
        "1.36051648,750,9\n",
        "1.696549156,759,-58.5\n",
        "2.516094026,700.5,122.8333333\n",
        "2.685788091,823.3333333,-6.666666667\n",
        "3.067528361,816.6666667,26.66666667\n",
        "3.451850377,843.3333333,-71.66666667\n",
        "3.671237928,771.6666667,31.66666667\n",
        "4.095030012,803.3333333,36.66666667\"\"\"))"
      ]
    },
    {
      "cell_type": "code",
      "execution_count": 21,
      "metadata": {},
      "outputs": [
        {
          "data": {
            "image/png": "[encoded data removed]",
            "text/plain": [
              "<Figure size 640x480 with 1 Axes>"
            ]
          },
          "metadata": {},
          "output_type": "display_data"
        }
      ],
      "source": [
        "ax =sb.lineplot(df, x='distance', y='ddelay',drawstyle='steps-pre')"
      ]
    },
    {
      "cell_type": "code",
      "execution_count": 22,
      "metadata": {},
      "outputs": [
        {
          "data": {
            "text/html": [
              "<div><style>\n",
              ".dataframe > thead > tr,\n",
              ".dataframe > tbody > tr {\n",
              "  text-align: right;\n",
              "  white-space: pre-wrap;\n",
              "}\n",
              "</style>\n",
              "<small>shape: (12, 3)</small><table border=\"1\" class=\"dataframe\"><thead><tr><th>distance</th><th>meandelay</th><th>ddelay</th></tr><tr><td>f64</td><td>f64</td><td>f64</td></tr></thead><tbody><tr><td>0.260949</td><td>780.0</td><td>-132.0</td></tr><tr><td>0.492006</td><td>648.0</td><td>123.0</td></tr><tr><td>0.762336</td><td>771.0</td><td>-107.0</td></tr><tr><td>1.105269</td><td>664.0</td><td>86.0</td></tr><tr><td>1.360516</td><td>750.0</td><td>9.0</td></tr><tr><td>&hellip;</td><td>&hellip;</td><td>&hellip;</td></tr><tr><td>2.685788</td><td>823.333333</td><td>-6.666667</td></tr><tr><td>3.067528</td><td>816.666667</td><td>26.666667</td></tr><tr><td>3.45185</td><td>843.333333</td><td>-71.666667</td></tr><tr><td>3.671238</td><td>771.666667</td><td>31.666667</td></tr><tr><td>4.09503</td><td>803.333333</td><td>36.666667</td></tr></tbody></table></div>"
            ],
            "text/plain": [
              "shape: (12, 3)\n",
              "┌──────────┬────────────┬────────────┐\n",
              "│ distance ┆ meandelay  ┆ ddelay     │\n",
              "│ ---      ┆ ---        ┆ ---        │\n",
              "│ f64      ┆ f64        ┆ f64        │\n",
              "╞══════════╪════════════╪════════════╡\n",
              "│ 0.260949 ┆ 780.0      ┆ -132.0     │\n",
              "│ 0.492006 ┆ 648.0      ┆ 123.0      │\n",
              "│ 0.762336 ┆ 771.0      ┆ -107.0     │\n",
              "│ 1.105269 ┆ 664.0      ┆ 86.0       │\n",
              "│ 1.360516 ┆ 750.0      ┆ 9.0        │\n",
              "│ …        ┆ …          ┆ …          │\n",
              "│ 2.685788 ┆ 823.333333 ┆ -6.666667  │\n",
              "│ 3.067528 ┆ 816.666667 ┆ 26.666667  │\n",
              "│ 3.45185  ┆ 843.333333 ┆ -71.666667 │\n",
              "│ 3.671238 ┆ 771.666667 ┆ 31.666667  │\n",
              "│ 4.09503  ┆ 803.333333 ┆ 36.666667  │\n",
              "└──────────┴────────────┴────────────┘"
            ]
          },
          "execution_count": 22,
          "metadata": {},
          "output_type": "execute_result"
        }
      ],
      "source": [
        "df"
      ]
    }
  ],
  "metadata": {
    "kernelspec": {
      "display_name": ".venv",
      "language": "python",
      "name": "python3"
    },
    "language_info": {
      "codemirror_mode": {
        "name": "ipython",
        "version": 3
      },
      "file_extension": ".py",
      "mimetype": "text/x-python",
      "name": "python",
      "nbconvert_exporter": "python",
      "pygments_lexer": "ipython3",
      "version": "3.10.14"
    }
  },
  "nbformat": 4,
  "nbformat_minor": 2
}
