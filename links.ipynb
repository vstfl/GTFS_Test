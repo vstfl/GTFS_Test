{
  "cells": [
    {
      "cell_type": "code",
      "execution_count": null,
      "metadata": {},
      "outputs": [],
      "source": [
        "import polars as pl\n",
        "import seaborn as sb\n",
        "import gtfs_delay_analysis as da"
      ]
    },
    {
      "cell_type": "code",
      "execution_count": null,
      "metadata": {},
      "outputs": [],
      "source": [
        "# 2002\n",
        "import importlib\n",
        "importlib.reload(da.ddelay)"
      ]
    },
    {
      "cell_type": "code",
      "execution_count": null,
      "metadata": {},
      "outputs": [],
      "source": [
        "aggregated = da.load_aggregate_data()\n",
        "stops = pl.read_parquet('stops.parquet')\n",
        "raw_dfs = da.load_raw_data()"
      ]
    },
    {
      "cell_type": "code",
      "execution_count": null,
      "metadata": {},
      "outputs": [],
      "source": [
        "trips = da.trips.load_trips_without_shapes_df()\n",
        "str_shapes = da.trips.load_str_shapes_df()\n",
        "shapes = da.trips.load_parsed_shapes_df()\n",
        "sequences = pl.read_parquet('stop-sequences.parquet')"
      ]
    },
    {
      "cell_type": "code",
      "execution_count": null,
      "metadata": {},
      "outputs": [],
      "source": [
        "all_004 =aggregated.join(trips, left_on='id', right_on='trip_id').filter(\n",
        "    pl.col(\"shape_id\").eq(\"004-171-East\")\n",
        ")\n",
        "\n",
        "# Delay\n",
        "# Derivative of delay"
      ]
    },
    {
      "cell_type": "code",
      "execution_count": null,
      "metadata": {},
      "outputs": [],
      "source": [
        "df = (\n",
        "all_004.with_columns(pl.col('stopid').cast(pl.Utf8))\n",
        ".join(\n",
        "    sequences.with_columns(pl.col('stop_id').cast(pl.Utf8)),\n",
        "    left_on=['id', 'stopid'],\n",
        "    right_on=['trip_id', 'stop_id'],\n",
        ")\n",
        ".group_by('id', 'stopid', 'stop_sequence').agg(\n",
        "    pl.col('meandelay').mean(),\n",
        ")\n",
        ".sort('id', 'stop_sequence')\n",
        ")\n",
        "\n",
        "specific_trip = df.filter(pl.col('id').eq(25536739))"
      ]
    },
    {
      "cell_type": "code",
      "execution_count": null,
      "metadata": {},
      "outputs": [],
      "source": [
        "def reorder_stops(df:pl.DataFrame, stop_id:str):\n",
        "    stop_idx =df.filter(pl.col('stopid').eq(stop_id))['stop_sequence'][0]\n",
        "    max_idx=df['stop_sequence'].max()\n",
        "    df['stop_sequence'].max()\n",
        "    return df.with_columns(\n",
        "        pl.col('stop_sequence').sub(stop_idx).mod(max_idx)\n",
        "    ).sort('stop_sequence')\n",
        "\n",
        "\n"
      ]
    },
    {
      "cell_type": "code",
      "execution_count": null,
      "metadata": {},
      "outputs": [],
      "source": [
        "def add_stops(df: pl.DataFrame):\n",
        "    return (\n",
        "        df\n",
        "    .with_row_index()\n",
        "        .with_columns(pl.col('line').str.split('-'))\n",
        "    .with_columns(\n",
        "        pl.col('line').list.get(0).alias('a'),\n",
        "        pl.col('line').list.get(1).alias('b'),\n",
        "    )\n",
        "    .drop('line')\n",
        "    .join(stops.select('stop_id', a_lon='stop_lon', a_lat='stop_lat'), left_on='a', right_on='stop_id')\n",
        "    .join(stops.select('stop_id', b_lon='stop_lon', b_lat='stop_lat'), left_on='b', right_on='stop_id')\n",
        "    .sort('index')\n",
        "    .drop('index')\n",
        "    )"
      ]
    },
    {
      "cell_type": "code",
      "execution_count": null,
      "metadata": {},
      "outputs": [],
      "source": [
        "from gtfs_delay_analysis.ddelay import get_ddelay,plot_ddelay\n",
        "\n",
        "def ddelay_with_seq(d:pl.DataFrame):\n",
        "    return (\n",
        "        d.join(stops, left_on='stopid',right_on='stop_id')\n",
        "        .with_columns( trip_id='id')\n",
        "        .sort('stop_sequence')\n",
        "        # .pipe(lambda d: display(d) or d)\n",
        "        .with_row_index()\n",
        "        .pipe(get_ddelay)\n",
        "    )\n",
        "\n",
        "def save(df:pl.DataFrame,name:str):\n",
        "    import os\n",
        "    write_path ='~/Downloads/GTFS'\n",
        "    return df.write_csv(os.path.join(write_path, name))\n",
        "\n",
        "def pre_process(df:pl.DataFrame):\n",
        "    return df .pipe(ddelay_with_seq) .drop('trip_id') .pipe(add_stops) .with_row_index()\n",
        "\n",
        "with_coords =(\n",
        "df.group_by('stopid', 'stop_sequence')\n",
        ".agg( pl.col('meandelay').mean())\n",
        ".with_columns(id=0)\n",
        ".pipe(reorder_stops, \"2002\")\n",
        ".pipe(pre_process)\n",
        "# .pipe(plot_ddelay)\n",
        "# .pipe(save,'ddelay-all-4.csv')\n",
        ")\n",
        "\n",
        "# specific_trip.pipe(reorder_stops, \"2002\").pipe(ddelay_with_seq).pipe(save, 'ddelay-25536739.csv')\n",
        "all_points = shapes.filter(pl.col('shape_id').eq('004-171-East')).explode('geometry_line').rename({\n",
        "    'geometry_line':'points',\n",
        "}).with_row_index()\n",
        "\n",
        "# with_coords\n",
        "points = all_points.select(\n",
        "    'index','shape_id',\n",
        "    lon=pl.col('points').struct.field('lon'),\n",
        "    lat=pl.col('points').struct.field('lat'),\n",
        ")\n"
      ]
    },
    {
      "cell_type": "code",
      "execution_count": null,
      "metadata": {},
      "outputs": [],
      "source": [
        "(df.group_by('stopid', 'stop_sequence')\n",
        ".agg( pl.col('meandelay').mean())\n",
        ".with_columns(id=0)\n",
        ".pipe(reorder_stops, \"2002\")\n",
        ").pipe(save, 'heading-stops.csv')"
      ]
    },
    {
      "cell_type": "code",
      "execution_count": null,
      "metadata": {},
      "outputs": [],
      "source": [
        "pp = points.with_columns(\n",
        "    pl.col('index').sub(1).alias('prev')\n",
        ").join(points,left_on='prev',right_on='index').select(\n",
        "    index='prev',\n",
        "    a_lon='lon',\n",
        "    a_lat='lat',\n",
        "    b_lon='lon_right',\n",
        "    b_lat='lat_right',\n",
        ")\n",
        "# .pipe(save ,'fuck-shapes.csv')\n",
        "with_coords.head(12).pipe(save, 'coords.csv')"
      ]
    },
    {
      "cell_type": "code",
      "execution_count": null,
      "metadata": {},
      "outputs": [],
      "source": [
        "str_shapes.filter(pl.col('shape_id').eq('004-171-East')).pipe(save ,'actual-shape.csv')"
      ]
    },
    {
      "cell_type": "code",
      "execution_count": null,
      "metadata": {},
      "outputs": [],
      "source": [
        "specific_trip.join(stops, left_on='stopid',right_on='stop_id').sort('stop_sequence').with_columns(\n",
        "    trip_id='id'\n",
        ").with_row_index()"
      ]
    },
    {
      "cell_type": "code",
      "execution_count": null,
      "metadata": {},
      "outputs": [],
      "source": [
        "shapes.filter(pl.col('shape_id').str.starts_with('004-171').or_(\n",
        "pl.col('shape_id').str.starts_with('004-172')\n",
        ")).explode('geometry_line').select(\n",
        "    'shape_id',\n",
        "    lon=pl.col('geometry_line').struct.field('lon'),\n",
        "    lat=pl.col('geometry_line').struct.field('lat'),\n",
        ").write_csv('~/Downloads/GTFS/004-East-shapes.csv')"
      ]
    },
    {
      "cell_type": "code",
      "execution_count": null,
      "metadata": {},
      "outputs": [],
      "source": [
        "from geopy.distance import geodesic"
      ]
    },
    {
      "cell_type": "code",
      "execution_count": null,
      "metadata": {},
      "outputs": [],
      "source": []
    },
    {
      "cell_type": "code",
      "execution_count": null,
      "metadata": {},
      "outputs": [],
      "source": [
        "def calculate_slope(df:pl.DataFrame):\n",
        "    return df.with_columns(\n",
        "        pl.struct(\n",
        "            lon1='a_lon',\n",
        "            lat1='a_lat',\n",
        "            lon2='b_lon',\n",
        "            lat2='b_lat',\n",
        "        ).map_elements(lambda x: geodesic((x['lat1'], x['lon1']), (x['lat2'], x['lon2'])).km).alias('distance')\n",
        "    ).with_columns(pl.col('ddelay').truediv('distance').alias('slope'))\n",
        "\n",
        "# with_coords.head(12).pipe(calculate_slope).pipe(save,'heading-slope.csv')\n",
        "specific_trip.pipe(reorder_stops, \"2002\").pipe(save,'specific-stops.csv')\n",
        "# .pipe(pre_process).head(12).pipe(calculate_slope).pipe(save,'specific-trip-slope.csv')"
      ]
    },
    {
      "cell_type": "code",
      "execution_count": null,
      "metadata": {},
      "outputs": [],
      "source": [
        "import seaborn as sb"
      ]
    },
    {
      "cell_type": "code",
      "execution_count": null,
      "metadata": {},
      "outputs": [],
      "source": []
    },
    {
      "cell_type": "code",
      "execution_count": null,
      "metadata": {},
      "outputs": [],
      "source": [
        "from io import StringIO\n",
        "df = pl.read_csv(StringIO(\"\"\"distance,meandelay,ddelay\n",
        "0.260948712,780,-132\n",
        "0.49200577,648,123\n",
        "0.762336063,771,-107\n",
        "1.105268809,664,86\n",
        "1.36051648,750,9\n",
        "1.696549156,759,-58.5\n",
        "2.516094026,700.5,122.8333333\n",
        "2.685788091,823.3333333,-6.666666667\n",
        "3.067528361,816.6666667,26.66666667\n",
        "3.451850377,843.3333333,-71.66666667\n",
        "3.671237928,771.6666667,31.66666667\n",
        "4.095030012,803.3333333,36.66666667\"\"\"))"
      ]
    },
    {
      "cell_type": "code",
      "execution_count": null,
      "metadata": {},
      "outputs": [],
      "source": [
        "ax =sb.lineplot(df, x='distance', y='ddelay',drawstyle='steps-pre')"
      ]
    },
    {
      "cell_type": "code",
      "execution_count": null,
      "metadata": {},
      "outputs": [],
      "source": [
        "df"
      ]
    }
  ],
  "metadata": {
    "kernelspec": {
      "display_name": ".venv",
      "language": "python",
      "name": "python3"
    },
    "language_info": {
      "codemirror_mode": {
        "name": "ipython",
        "version": 3
      },
      "file_extension": ".py",
      "mimetype": "text/x-python",
      "name": "python",
      "nbconvert_exporter": "python",
      "pygments_lexer": "ipython3",
      "version": "3.10.12"
    }
  },
  "nbformat": 4,
  "nbformat_minor": 2
}
