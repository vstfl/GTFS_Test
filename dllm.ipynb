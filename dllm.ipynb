{
  "cells": [
    {
      "cell_type": "code",
      "execution_count": null,
      "metadata": {},
      "outputs": [],
      "source": [
        "import polars as pl\n",
        "import seaborn as sb\n",
        "import gtfs_delay_analysis as da "
      ]
    },
    {
      "cell_type": "code",
      "execution_count": null,
      "metadata": {},
      "outputs": [],
      "source": [
        "import importlib\n",
        "importlib.reload(da)"
      ]
    },
    {
      "cell_type": "code",
      "execution_count": null,
      "metadata": {},
      "outputs": [],
      "source": [
        "aggregated = da.load_aggregate_data()\n",
        "stops = pl.read_parquet('stops.parquet')\n",
        "raw_dfs = da.load_raw_data()"
      ]
    },
    {
      "cell_type": "code",
      "execution_count": null,
      "metadata": {},
      "outputs": [],
      "source": [
        "stops.write_parquet('stops.parquet')"
      ]
    },
    {
      "cell_type": "code",
      "execution_count": null,
      "metadata": {},
      "outputs": [],
      "source": [
        "trips = da.trips.load_trips_without_shapes_df()\n",
        "str_shapes = da.trips.load_str_shapes_df()\n",
        "shapes = da.trips.load_parsed_shapes_df()\n",
        "network_so_bad = pl.read_parquet('sequence.parquet')"
      ]
    },
    {
      "cell_type": "code",
      "execution_count": null,
      "metadata": {},
      "outputs": [],
      "source": [
        "from gtfs_delay_analysis.ddelay import get_ddelay\n",
        "with_shape = network_so_bad.pipe(get_ddelay).with_columns(\n",
        "    pl.col('trip_id').cast(pl.Int64)\n",
        ").join(trips.select('trip_id', 'shape_id'), on='trip_id')"
      ]
    },
    {
      "cell_type": "code",
      "execution_count": null,
      "metadata": {},
      "outputs": [],
      "source": [
        "with_line = with_shape.join(shapes, on='shape_id').drop('shape_id', 'line_length', 'line')"
      ]
    },
    {
      "cell_type": "code",
      "execution_count": null,
      "metadata": {},
      "outputs": [],
      "source": [
        "with_id = (with_line\n",
        " .with_row_index('id')\n",
        " .with_columns(pl.col('id').floordiv(50000)))"
      ]
    },
    {
      "cell_type": "code",
      "execution_count": null,
      "metadata": {},
      "outputs": [],
      "source": [
        "split = with_id.partition_by('id')"
      ]
    },
    {
      "cell_type": "code",
      "execution_count": null,
      "metadata": {},
      "outputs": [],
      "source": [
        "for s, df in enumerate(split):\n",
        "    df.write_parquet(f'with-shape-{s}.parquet')"
      ]
    }
  ],
  "metadata": {
    "kernelspec": {
      "display_name": ".venv",
      "language": "python",
      "name": "python3"
    },
    "language_info": {
      "codemirror_mode": {
        "name": "ipython",
        "version": 3
      },
      "file_extension": ".py",
      "mimetype": "text/x-python",
      "name": "python",
      "nbconvert_exporter": "python",
      "pygments_lexer": "ipython3",
      "version": "3.10.12"
    }
  },
  "nbformat": 4,
  "nbformat_minor": 2
}
