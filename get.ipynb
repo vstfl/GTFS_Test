{
  "cells": [
    {
      "cell_type": "code",
      "execution_count": null,
      "metadata": {},
      "outputs": [],
      "source": [
        "import requests\n",
        "from google.protobuf.json_format import MessageToDict\n",
        "from google.transit import gtfs_realtime_pb2\n",
        "\n",
        "def read_pb(url):\n",
        "    \"\"\"\n",
        "    Parse's .pb file\n",
        "    :param url: url to .pb file\n",
        "    :return: parsed content as dict\n",
        "    \"\"\"\n",
        "    feed = gtfs_realtime_pb2.FeedMessage()\n",
        "    response = requests.get(url)\n",
        "    feed.ParseFromString(response.content)\n",
        "    dict_obj = MessageToDict(feed)\n",
        "    return dict_obj\n",
        "\n",
        "pb = read_pb(\"http://gtfs.edmonton.ca/TMGTFSRealTimeWebService/TripUpdate/TripUpdates.pb\")"
      ]
    },
    {
      "cell_type": "code",
      "execution_count": null,
      "metadata": {},
      "outputs": [],
      "source": [
        "import polars as pl\n",
        "# df =pl.DataFrame(pb['entity'])"
      ]
    },
    {
      "cell_type": "code",
      "execution_count": null,
      "metadata": {},
      "outputs": [],
      "source": [
        "df.filter(pl.col(\"id\").eq(\"25536739\"))\n"
      ]
    },
    {
      "cell_type": "code",
      "execution_count": null,
      "metadata": {},
      "outputs": [],
      "source": [
        "all_4_trips ={25536613, 25536614, 25536615, 25536616, 25536617, 25536618, 25536619, 25536620, 25536621, 25536622, 25536623, 25536624, 25536625, 25536626, 25536627, 25536628, 25536629, 25536630, 25536631, 25536632, 25536633, 25536634, 25536635, 25536636, 25536637, 25536638, 25536639, 25536640, 25536641, 25536642, 25536643, 25536644, 25536645, 25536651, 25536652, 25536653, 25536654, 25536655, 25536656, 25536657, 25536658, 25536659, 25536660, 25536661, 25536662, 25536663, 25536664, 25536665, 25536666, 25536667, 25536668, 25536669, 25536670, 25536671, 25536672, 25536673, 25536674, 25536675, 25536676, 25536677, 25536678, 25536679, 25536680, 25536681, 25536688, 25536689, 25536690, 25536691, 25536692, 25536693, 25536694, 25536695, 25536696, 25536697, 25536698, 25536699, 25536700, 25536701, 25536702, 25536703, 25536704, 25536705, 25536706, 25536707, 25536708, 25536709, 25536710, 25536711, 25536712, 25536713, 25536714, 25536715, 25536716, 25536717, 25536718, 25536719, 25536720, 25536721, 25536722, 25536723, 25536724, 25536725, 25536726, 25536727, 25536728, 25536729, 25536730, 25536731, 25536732, 25536733, 25536734, 25536735, 25536736, 25536737, 25536738, 25536739, 25536740, 25536741, 25536742, 25536743, 25536744, 25536745, 25536746, 25536747, 25536748, 25536749, 25536750, 25536751, 25536752, 25536753, 25536754, 25536755, 25536756, 25536757, 25536758, 25536759, 25536760, 25536761, 25536762, 25536763, 25536764, 25536765, 25536766, 25536767, 25536768, 25536769, 25536770, 25536771, 25536772, 25536773, 25536774, 25536775, 25536776, 25536777, 25536778, 25536779, 25536780, 25536781, 25536783, 25536784, 25536785, 25536786, 25536787, 25536788, 25536789, 25536790, 25536791, 25536792, 25536793, 25536794, 25536795, 25536796, 25536797, 25536798, 25536799, 25536800, 25536801, 25536802, 25536803, 25536804, 25536805, 25536806, 25536807, 25536808, 25536809, 25536810, 25536811, 25536812, 25536813, 25536814, 25536815, 25536816, 25536817, 25536818, 25536819, 25536820, 25536821, 25536822, 25536823, 25536824, 25536825, 25536826, 25536827, 25536828, 25536829, 25536830, 25536831, 25536832, 25536833, 25536834, 25536835, 25536836, 25536837, 25536838, 25536839, 25536840, 25536841, 25536842, 25536843, 25536844, 25566746, 25566747, 25566748, 25566749, 25566750, 25566751, 25566752, 25566753, 25566754, 25566755, 25566756, 25566757, 25566758}"
      ]
    },
    {
      "cell_type": "code",
      "execution_count": null,
      "metadata": {},
      "outputs": [],
      "source": [
        "# df.filter(\n",
        "#     pl.col(\"id\").cast(pl.Int64).is_in(all_4_trips)\n",
        "# )\n",
        "\n",
        "right_now =set(df['id'].cast(pl.Int64))"
      ]
    },
    {
      "cell_type": "code",
      "execution_count": null,
      "metadata": {},
      "outputs": [],
      "source": [
        "stop_times =pl.read_csv('ETS_Bus_Schedule_GTFS_Data_Feed_-_Stop_Times_20240407.csv')"
      ]
    },
    {
      "cell_type": "code",
      "execution_count": null,
      "metadata": {},
      "outputs": [],
      "source": [
        "stop_times.filter(pl.col('trip_id').eq(25536739)).select( 'stop_sequence', 'stop_id')"
      ]
    },
    {
      "cell_type": "code",
      "execution_count": null,
      "metadata": {},
      "outputs": [],
      "source": [
        "stop_times.select(\n",
        "    'trip_id',\n",
        "    pl.col('stop_id').cast(pl.Categorical),\n",
        "    pl.col('stop_sequence').cast(pl.Int8)\n",
        ").write_parquet('stop-sequences.parquet')\n",
        "# .select(\n",
        "#     'trip_id',\n",
        "#     'stop_sequence',\n",
        "# )"
      ]
    }
  ],
  "metadata": {
    "kernelspec": {
      "display_name": ".venv",
      "language": "python",
      "name": "python3"
    },
    "language_info": {
      "codemirror_mode": {
        "name": "ipython",
        "version": 3
      },
      "file_extension": ".py",
      "mimetype": "text/x-python",
      "name": "python",
      "nbconvert_exporter": "python",
      "pygments_lexer": "ipython3",
      "version": "3.10.12"
    }
  },
  "nbformat": 4,
  "nbformat_minor": 2
}
