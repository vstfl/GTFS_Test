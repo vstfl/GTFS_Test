{
  "cells": [
    {
      "cell_type": "code",
      "execution_count": null,
      "metadata": {},
      "outputs": [],
      "source": [
        "import polars as pl\n",
        "import gtfs_delay_analysis as da"
      ]
    },
    {
      "cell_type": "code",
      "execution_count": null,
      "metadata": {},
      "outputs": [],
      "source": [
        "ddelay = pl.read_parquet('all_ddelay.parquet').with_columns(\n",
        "    pl.col('trip_id').cast(pl.Int64))\n",
        "trips = da.trips.load_trips_without_shapes_df()\n",
        "shapes = da.trips.load_parsed_shapes_df()"
      ]
    },
    {
      "cell_type": "code",
      "execution_count": null,
      "metadata": {},
      "outputs": [],
      "source": [
        "with_shape_id = ddelay.join(trips.select('trip_id', 'shape_id'), on='trip_id')"
      ]
    },
    {
      "cell_type": "code",
      "execution_count": null,
      "metadata": {},
      "outputs": [],
      "source": [
        "shapes_with_trip_id = shapes.join(trips.select(\n",
        "    'trip_id', 'shape_id').unique(), on='shape_id').drop('line_length')"
      ]
    },
    {
      "cell_type": "code",
      "execution_count": null,
      "metadata": {},
      "outputs": [],
      "source": [
        "shapes_with_trip_id.select(\n",
        "    'shape_id',\n",
        "    'trip_id',\n",
        "    pl.col('geometry_line').list.len()\n",
        ")['geometry_line'].sum()"
      ]
    },
    {
      "cell_type": "code",
      "execution_count": null,
      "metadata": {},
      "outputs": [],
      "source": [
        "selected_shape_id =\"004-171-East\"\n",
        "selected_shape = pl.col('shape_id').eq(selected_shape_id)\n",
        "pl.Config.set_tbl_rows(62)\n",
        "exploded = (\n",
        "    shapes_with_trip_id\n",
        "    .filter(selected_shape)\n",
        "    .explode('geometry_line')\n",
        "    .unique(['trip_id', 'geometry_line'], keep='first', maintain_order=True)\n",
        ")"
      ]
    },
    {
      "cell_type": "code",
      "execution_count": null,
      "metadata": {},
      "outputs": [],
      "source": [
        "dff = shapes_with_trip_id.filter(pl.col('shape_id').str.starts_with('004')).head(1).explode(\n",
        "    'geometry_line'\n",
        ")"
      ]
    },
    {
      "cell_type": "code",
      "execution_count": null,
      "metadata": {},
      "outputs": [],
      "source": [
        "# The stops don't match with the shape, so we have to find the closest point\n",
        "df  =exploded.join(\n",
        "    with_shape_id.filter(selected_shape),\n",
        "    left_on=[pl.col('geometry_line').struct.field('lon'), pl.col(\n",
        "        'geometry_line').struct.field('lat'), 'trip_id', 'shape_id'],\n",
        "    right_on=['a_lon', 'a_lat', 'trip_id', 'shape_id'],\n",
        "    how='left'\n",
        ")"
      ]
    },
    {
      "cell_type": "code",
      "execution_count": null,
      "metadata": {},
      "outputs": [],
      "source": [
        "write_path = \"~/Downloads/GTFS\"\n",
        "df.filter(pl.col('trip_id').eq(25536739)).select(\n",
        "    pl.col('geometry_line').struct.field('lon'),\n",
        "    pl.col('geometry_line').struct.field('lat'),\n",
        ").write_csv(f'{write_path}/{selected_shape_id}.csv')"
      ]
    },
    {
      "cell_type": "code",
      "execution_count": null,
      "metadata": {},
      "outputs": [],
      "source": [
        "dff.select(\n",
        "    pl.col('geometry_line').struct.field('lon'),\n",
        "    pl.col('geometry_line').struct.field('lat'),\n",
        ").write_csv('508-33-west.csv')"
      ]
    },
    {
      "cell_type": "code",
      "execution_count": null,
      "metadata": {},
      "outputs": [],
      "source": [
        "with_shape_id"
      ]
    },
    {
      "cell_type": "code",
      "execution_count": null,
      "metadata": {},
      "outputs": [],
      "source": [
        "with_shape_id.filter(pl.col('trip_id').eq(25536739)).select(\n",
        "    'a','a_lon','a_lat'\n",
        ").write_csv(f'{write_path}/004-capilano-stops.csv')"
      ]
    },
    {
      "cell_type": "code",
      "execution_count": null,
      "metadata": {},
      "outputs": [],
      "source": []
    },
    {
      "cell_type": "code",
      "execution_count": null,
      "metadata": {},
      "outputs": [],
      "source": [
        "import math\n",
        "from geopy.distance import geodesic\n",
        "# Just get one shape\n",
        "trip_id = 25536564\n",
        "selected_trip = pl.col('trip_id').eq(trip_id)\n",
        "\n",
        "\n",
        "def haversine(lon1: str, lat1: str, lon2: str,  lat2: str):\n",
        "    r = 6371 * 1000 # Radius of the earth in m\n",
        "    p = math.pi / 180\n",
        "    a = (\n",
        "        pl.lit(0.5)\n",
        "        .sub( pl.col(lat2).sub(pl.col(lat1)).mul(p).cos().truediv(2))\n",
        "        .add(\n",
        "            pl.col(lat1).mul(p).cos().mul(pl.col(lat2).mul(p).cos())\n",
        "            .mul(\n",
        "                pl.lit(1.0)\n",
        "                .sub(\n",
        "                    pl.col(lon2).sub(pl.col(lon1)).mul(p).cos()\n",
        "                )\n",
        "                .truediv(2)\n",
        "            )\n",
        "        )\n",
        "    )\n",
        "    print(a)\n",
        "    return pl.lit(2*r).mul(a.sqrt().arcsin())\n",
        "\n",
        "(\n",
        "\n",
        "exploded\n",
        ".with_columns(\n",
        "    pl.col('geometry_line').struct.field('lon'),\n",
        "    pl.col('geometry_line').struct.field('lat'),\n",
        ")\n",
        ".drop('geometry_line')\n",
        ".filter(selected_trip)\n",
        ".join(\n",
        "with_shape_id.filter(selected_trip).select('a', 'a_lon', 'a_lat', 'trip_id'),\n",
        "on='trip_id',\n",
        ")\n",
        ".with_columns(\n",
        "    pl.struct(\n",
        "        lon1='lon',\n",
        "        lat1='lat',\n",
        "        lon2='a_lon',\n",
        "        lat2='a_lat',\n",
        "    ).map_elements(lambda x: geodesic((x['lat1'], x['lon1']), (x['lat2'], x['lon2'])).m).alias('distance')\n",
        ")\n",
        ".filter(pl.col('distance').eq(pl.col('distance').min().over('a')))\n",
        ".sort('distance', descending=True)\n",
        "# .filter(pl.col('lon').is_duplicated())\n",
        ")"
      ]
    },
    {
      "cell_type": "code",
      "execution_count": null,
      "metadata": {},
      "outputs": [],
      "source": [
        "exploded"
      ]
    },
    {
      "cell_type": "code",
      "execution_count": null,
      "metadata": {},
      "outputs": [],
      "source": [
        "import geopandas as gpd\n",
        "\n",
        "gdf = gpd.read_file('data/geo_export_fcffcbc3-f913-4eea-b630-e36759d5fb03.shp')"
      ]
    },
    {
      "cell_type": "code",
      "execution_count": null,
      "metadata": {},
      "outputs": [],
      "source": [
        "gdf: gpd.GeoDataFrame"
      ]
    },
    {
      "cell_type": "code",
      "execution_count": null,
      "metadata": {},
      "outputs": [],
      "source": [
        "gdf[gdf['route_id'] == \"508\"]['trip_heads'].unique()"
      ]
    },
    {
      "cell_type": "code",
      "execution_count": null,
      "metadata": {},
      "outputs": [],
      "source": [
        "bruh = gdf[['trip_id', 'shape_id']]"
      ]
    },
    {
      "cell_type": "code",
      "execution_count": null,
      "metadata": {},
      "outputs": [],
      "source": [
        "from shapely import Point\n",
        "\n",
        "\n",
        "# pl.from_pandas(bruh)\n",
        "\n",
        "\n",
        "\n",
        "df = gdf[gdf['trip_id'] == \"25536564\"].copy()\n",
        "df['points'] = df[\"geometry\"].apply(lambda x: [Point(xy) for xy in x.coords])\n",
        "\n",
        "df.explode('points', index_parts=True)"
      ]
    },
    {
      "cell_type": "code",
      "execution_count": null,
      "metadata": {},
      "outputs": [],
      "source": [
        "gdf[['shape_id', 'geometry']].drop_duplicates()"
      ]
    },
    {
      "cell_type": "code",
      "execution_count": null,
      "metadata": {},
      "outputs": [],
      "source": [
        "from geopy.distance import geodesic\n",
        "geodesic().m"
      ]
    }
  ],
  "metadata": {
    "kernelspec": {
      "display_name": ".venv",
      "language": "python",
      "name": "python3"
    },
    "language_info": {
      "codemirror_mode": {
        "name": "ipython",
        "version": 3
      },
      "file_extension": ".py",
      "mimetype": "text/x-python",
      "name": "python",
      "nbconvert_exporter": "python",
      "pygments_lexer": "ipython3",
      "version": "3.10.12"
    }
  },
  "nbformat": 4,
  "nbformat_minor": 2
}
