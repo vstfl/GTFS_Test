{
  "cells": [
    {
      "cell_type": "code",
      "execution_count": null,
      "metadata": {},
      "outputs": [],
      "source": [
        "import polars as pl\n",
        "import gtfs_delay_analysis as da "
      ]
    },
    {
      "cell_type": "code",
      "execution_count": null,
      "metadata": {},
      "outputs": [],
      "source": [
        "ddelay = pl.read_parquet('all_ddelay.parquet').with_columns(pl.col('trip_id').cast(pl.Int64))\n",
        "trips = da.trips.load_trips_without_shapes_df()\n",
        "shapes = da.trips.load_parsed_shapes_df()"
      ]
    },
    {
      "cell_type": "code",
      "execution_count": null,
      "metadata": {},
      "outputs": [],
      "source": [
        "with_shape_id = ddelay.join(trips.select('trip_id', 'shape_id'), on='trip_id')"
      ]
    },
    {
      "cell_type": "code",
      "execution_count": null,
      "metadata": {},
      "outputs": [],
      "source": [
        "shapes_with_trip_id = shapes.join(trips.select('trip_id', 'shape_id').unique(), on='shape_id').drop('line_length')"
      ]
    },
    {
      "cell_type": "code",
      "execution_count": null,
      "metadata": {},
      "outputs": [],
      "source": [
        "shapes_with_trip_id.select(\n",
        "    'shape_id',\n",
        "    'trip_id',\n",
        "    pl.col('geometry_line').list.n_unique()\n",
        ")['geometry_line'].sum()"
      ]
    },
    {
      "cell_type": "code",
      "execution_count": null,
      "metadata": {},
      "outputs": [],
      "source": [
        "(\n",
        "shapes_with_trip_id\n",
        ".filter(pl.col('shape_id') == \"508-1-East\")\n",
        ".explode('geometry_line')\n",
        ".with_row_index()\n",
        ".unique(['trip_id', 'geometry_line'], keep='first', maintain_order=True)\n",
        ")"
      ]
    },
    {
      "cell_type": "code",
      "execution_count": null,
      "metadata": {},
      "outputs": [],
      "source": [
        "selected_shape = pl.col('shape_id').eq(\"508-1-East\")\n",
        "pl.Config.set_tbl_rows(62)\n",
        "exploded = (\n",
        "shapes_with_trip_id\n",
        ".filter(selected_shape)\n",
        ".explode('geometry_line')\n",
        ".unique(['trip_id', 'geometry_line'], keep='first', maintain_order=True)\n",
        ")"
      ]
    },
    {
      "cell_type": "code",
      "execution_count": null,
      "metadata": {},
      "outputs": [],
      "source": [
        "exploded.join(\n",
        "    with_shape_id.filter(selected_shape),\n",
        "    left_on=[pl.col('geometry_line').struct.field('lon'),pl.col('geometry_line').struct.field('lat'), 'trip_id','shape_id'],\n",
        "    right_on=['a_lon', 'a_lat', 'trip_id', 'shape_id'],\n",
        "    how='left'\n",
        ")"
      ]
    },
    {
      "cell_type": "code",
      "execution_count": null,
      "metadata": {},
      "outputs": [],
      "source": [
        "exploded.with_columns(\n",
        "    pl.col('geometry_line').struct.field('lon'),\n",
        "    pl.col('geometry_line').struct.field('lat'),\n",
        ").drop('geometry_line').filter(pl.col('trip_id').eq(25536564))\n",
        "with_shape_id.filter(selected_shape).select('a', 'a_lon', 'b_lon').unique()"
      ]
    },
    {
      "cell_type": "code",
      "execution_count": null,
      "metadata": {},
      "outputs": [],
      "source": []
    }
  ],
  "metadata": {
    "kernelspec": {
      "display_name": ".venv",
      "language": "python",
      "name": "python3"
    },
    "language_info": {
      "codemirror_mode": {
        "name": "ipython",
        "version": 3
      },
      "file_extension": ".py",
      "mimetype": "text/x-python",
      "name": "python",
      "nbconvert_exporter": "python",
      "pygments_lexer": "ipython3",
      "version": "3.10.12"
    }
  },
  "nbformat": 4,
  "nbformat_minor": 2
}
