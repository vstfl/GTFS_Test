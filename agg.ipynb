{
 "cells": [
  {
   "cell_type": "code",
   "execution_count": 34,
   "metadata": {},
   "outputs": [],
   "source": [
    "import polars as pl\n",
    "import seaborn as sb\n",
    "import gtfs_delay_analysis as da"
   ]
  },
  {
   "cell_type": "code",
   "execution_count": 32,
   "metadata": {},
   "outputs": [
    {
     "data": {
      "text/plain": [
       "<module 'gtfs_delay_analysis' from '/home/chrlz/repos/GTFS/gtfs_delay_analysis/__init__.py'>"
      ]
     },
     "execution_count": 32,
     "metadata": {},
     "output_type": "execute_result"
    }
   ],
   "source": [
    "import importlib\n",
    "importlib.reload(da)"
   ]
  },
  {
   "cell_type": "code",
   "execution_count": 2,
   "metadata": {},
   "outputs": [],
   "source": [
    "stops = pl.read_csv(\n",
    "    '/home/chrlz/dox/dl/ETS_Bus_Schedule_GTFS_Data_Feed_-_Stops_20240216.csv')"
   ]
  },
  {
   "cell_type": "code",
   "execution_count": 3,
   "metadata": {},
   "outputs": [],
   "source": [
    "aggregated = da.load_aggregate_data()"
   ]
  },
  {
   "cell_type": "markdown",
   "metadata": {},
   "source": [
    "So we know that all trip id is unique for a single day, no need to worry about overlaps\n",
    "\n",
    "Average delay in a stop every 3 minutes 10 recordings of a bus\n",
    "\n",
    "AM: 7am-9am\n",
    "PM: 4pm-7pm\n",
    "OFF: 5am-7am, 9am-4-pm, 7pm-10pm"
   ]
  },
  {
   "cell_type": "code",
   "execution_count": 5,
   "metadata": {},
   "outputs": [
    {
     "data": {
      "text/html": [
       "<div><style>\n",
       ".dataframe > thead > tr,\n",
       ".dataframe > tbody > tr {\n",
       "  text-align: right;\n",
       "  white-space: pre-wrap;\n",
       "}\n",
       "</style>\n",
       "<small>shape: (2, 5)</small><table border=\"1\" class=\"dataframe\"><thead><tr><th>routeid</th><th>avgdelay</th><th>maxdelay</th><th>numtrips</th><th>count</th></tr><tr><td>cat</td><td>f64</td><td>f64</td><td>u32</td><td>u32</td></tr></thead><tbody><tr><td>&quot;004&quot;</td><td>404.895349</td><td>1188.0</td><td>430</td><td>1465</td></tr><tr><td>&quot;637&quot;</td><td>224.375</td><td>465.0</td><td>8</td><td>24</td></tr></tbody></table></div>"
      ],
      "text/plain": [
       "shape: (2, 5)\n",
       "┌─────────┬────────────┬──────────┬──────────┬───────┐\n",
       "│ routeid ┆ avgdelay   ┆ maxdelay ┆ numtrips ┆ count │\n",
       "│ ---     ┆ ---        ┆ ---      ┆ ---      ┆ ---   │\n",
       "│ cat     ┆ f64        ┆ f64      ┆ u32      ┆ u32   │\n",
       "╞═════════╪════════════╪══════════╪══════════╪═══════╡\n",
       "│ 004     ┆ 404.895349 ┆ 1188.0   ┆ 430      ┆ 1465  │\n",
       "│ 637     ┆ 224.375    ┆ 465.0    ┆ 8        ┆ 24    │\n",
       "└─────────┴────────────┴──────────┴──────────┴───────┘"
      ]
     },
     "execution_count": 5,
     "metadata": {},
     "output_type": "execute_result"
    }
   ],
   "source": [
    "# 1. Map delay average over week\n",
    "mean_stop = aggregated.pipe(da.agg_group, 'stopid')\n",
    "\n",
    "# 2. Over week by day\n",
    "# TODO: Filter by PEAK, OFF, and DAY\n",
    "by_day_all = aggregated.pipe(da.agg_group, 'day', 'period')\n",
    "by_day_peak = (\n",
    "    aggregated\n",
    "    .filter(pl.col('period') != 'OFF')\n",
    "    .pipe(da.agg_group, 'day', 'period')\n",
    ")\n",
    "by_day_off = (\n",
    "    aggregated\n",
    "    .filter(pl.col('period') == 'OFF')\n",
    "    .pipe(da.agg_group, 'day', 'period')\n",
    ")\n",
    "\n",
    "\n",
    "# 3. Over day by hour\n",
    "by_hour = aggregated.pipe(da.agg_group, 'day', 'hour')\n",
    "\n",
    "# TODO: Select route\n",
    "# 4. Time series graph of route by hour by day\n",
    "\n",
    "\n",
    "highest_delay_stops = (\n",
    "    mean_stop\n",
    "    .group_by('stopid')\n",
    "    .agg(pl.col('avgdelay').max())\n",
    "    .sort('avgdelay', descending=True)\n",
    "    .select('stopid')\n",
    "    .head(100)\n",
    "    .unique()\n",
    "    .join(aggregated, on='stopid')\n",
    ")\n",
    "routes_on_highest_delay_stops = (\n",
    "    highest_delay_stops\n",
    "    .select('routeid')\n",
    "    .unique()\n",
    "    .join(aggregated, on='routeid')\n",
    ")\n",
    "agg_routes_on_highest_delay = (\n",
    "    routes_on_highest_delay_stops\n",
    "    .pipe(da.agg_group, 'routeid')\n",
    "    .drop('lastupdate')\n",
    ")\n",
    "\n",
    "\n",
    "def plot_by_route(df: pl.DataFrame):\n",
    "    tidy = df.melt(id_vars='routeid').sort('routeid')\n",
    "    xticks = tidy['routeid']\n",
    "    xticks_unique = tidy['routeid'].unique()\n",
    "    ax = sb.barplot(\n",
    "        data=tidy,\n",
    "        x='routeid',\n",
    "        y='value',\n",
    "        hue='variable',\n",
    "        width=1,\n",
    "        order=xticks,\n",
    "    )\n",
    "    ax.set_xticks(ax.get_xticks(), xticks_unique, rotation=90)\n",
    "\n",
    "\n",
    "# 5. Mapping delay propagations within a route\n",
    "# 6. TODO\n",
    "\n",
    "def plot_stop_and_route(df: pl.DataFrame, stop: str, route: str):\n",
    "    days = pl.DataFrame({\n",
    "        \"day\": [*range(1, 6)],\n",
    "        \"letter\": ['M', 'T', 'W', 'R', 'F'],\n",
    "    }, schema={\"day\": pl.Int8, 'letter': pl.Categorical})\n",
    "    by_day_by_hour_for_stop = (\n",
    "        da.select_stop_and_route(df, stop, route)\n",
    "        .join(days, on='day')\n",
    "        .drop('day')\n",
    "        .rename({'letter': 'day'})\n",
    "    )\n",
    "\n",
    "    ax = sb.barplot(by_day_by_hour_for_stop, x='hour', y='avgdelay', hue='day')\n",
    "    ax.set_title(f'Average delay for route {route} stop {stop}')\n",
    "    return by_day_by_hour_for_stop\n",
    "\n",
    "\n",
    "# select_stop(aggregated, \"2260\")\n",
    "\n",
    "# sb.barplot(by_day_by_hour_for_stop, x='hour', y='maxdelay')\n",
    "\n",
    "\n",
    "highest_delay_stops.select('stopid').unique()\n",
    "\n",
    "# plot_stop_and_route(aggregated, \"2260\", \"637\")\n",
    "da.select_stop(aggregated, \"2260\")"
   ]
  },
  {
   "cell_type": "code",
   "execution_count": 10,
   "metadata": {},
   "outputs": [],
   "source": [
    "(\n",
    "    mean_stop.drop('lastupdate')\n",
    "    .pipe(da.add_coords, stops)\n",
    "    .write_csv('mean-stop.csv')\n",
    ")"
   ]
  },
  {
   "cell_type": "code",
   "execution_count": 27,
   "metadata": {},
   "outputs": [
    {
     "data": {
      "text/plain": [
       "1489"
      ]
     },
     "execution_count": 27,
     "metadata": {},
     "output_type": "execute_result"
    }
   ],
   "source": [
    "len(mean_stop) - len(mean_stop.filter(pl.col('numtrips')> 200))\n",
    "# len(mean_stop)"
   ]
  },
  {
   "cell_type": "markdown",
   "metadata": {},
   "source": [
    "Some exploration of the `trips.json` file which DOES contain coordinates of the\n",
    "trip\n",
    "\n",
    "From initial observation of the data, each trip may have a unique path, even for\n",
    "the same route (e.g. shorter route for off-peak hours, my bus route home was\n",
    "like that at one point)\n",
    "\n",
    "Other assumptions:\n",
    "- There is only one type of geometry line: MultiLineString\n",
    "- The actual coordinates are wrapped inside another JSON array"
   ]
  },
  {
   "cell_type": "code",
   "execution_count": null,
   "metadata": {},
   "outputs": [],
   "source": [
    "trips = da.load_trips_df()"
   ]
  },
  {
   "cell_type": "code",
   "execution_count": null,
   "metadata": {},
   "outputs": [],
   "source": [
    "pl.Config.set_fmt_str_lengths(1000)\n",
    "trips.sort('route_id')"
   ]
  },
  {
   "cell_type": "code",
   "execution_count": null,
   "metadata": {},
   "outputs": [],
   "source": [
    "import geopolars as gp\n",
    "gp.GeoDataFrame(mean_stop.pipe(da.add_coords, stops)).plot()\n"
   ]
  },
  {
   "cell_type": "markdown",
   "metadata": {},
   "source": [
    "How many counts should we deem useful for visualization of data?"
   ]
  },
  {
   "cell_type": "code",
   "execution_count": null,
   "metadata": {},
   "outputs": [],
   "source": [
    "pl.Config.set_fmt_table_cell_list_len(100)\n",
    "aggregated['routeid']\n",
    "# 1_250_916"
   ]
  },
  {
   "cell_type": "code",
   "execution_count": 53,
   "metadata": {},
   "outputs": [
    {
     "data": {
      "text/html": [
       "<div><style>\n",
       ".dataframe > thead > tr,\n",
       ".dataframe > tbody > tr {\n",
       "  text-align: right;\n",
       "  white-space: pre-wrap;\n",
       "}\n",
       "</style>\n",
       "<small>shape: (90, 6)</small><table border=\"1\" class=\"dataframe\"><thead><tr><th>hour</th><th>avgdelay</th><th>maxdelay</th><th>numtrips</th><th>count</th><th>day</th></tr><tr><td>i8</td><td>f64</td><td>f64</td><td>u32</td><td>u32</td><td>cat</td></tr></thead><tbody><tr><td>5</td><td>82.208333</td><td>150.0</td><td>4</td><td>49</td><td>&quot;M&quot;</td></tr><tr><td>6</td><td>68.836142</td><td>175.0</td><td>12</td><td>137</td><td>&quot;M&quot;</td></tr><tr><td>7</td><td>196.82483</td><td>457.5</td><td>7</td><td>67</td><td>&quot;M&quot;</td></tr><tr><td>8</td><td>225.898716</td><td>867.0</td><td>16</td><td>412</td><td>&quot;M&quot;</td></tr><tr><td>9</td><td>270.754127</td><td>905.625</td><td>10</td><td>168</td><td>&quot;M&quot;</td></tr><tr><td>&hellip;</td><td>&hellip;</td><td>&hellip;</td><td>&hellip;</td><td>&hellip;</td><td>&hellip;</td></tr><tr><td>18</td><td>287.778834</td><td>360.0</td><td>7</td><td>143</td><td>&quot;F&quot;</td></tr><tr><td>19</td><td>275.515789</td><td>360.0</td><td>5</td><td>50</td><td>&quot;F&quot;</td></tr><tr><td>20</td><td>172.0</td><td>324.0</td><td>2</td><td>44</td><td>&quot;F&quot;</td></tr><tr><td>21</td><td>116.74</td><td>157.5</td><td>5</td><td>109</td><td>&quot;F&quot;</td></tr><tr><td>22</td><td>218.859023</td><td>243.0</td><td>4</td><td>82</td><td>&quot;F&quot;</td></tr></tbody></table></div>"
      ],
      "text/plain": [
       "shape: (90, 6)\n",
       "┌──────┬────────────┬──────────┬──────────┬───────┬─────┐\n",
       "│ hour ┆ avgdelay   ┆ maxdelay ┆ numtrips ┆ count ┆ day │\n",
       "│ ---  ┆ ---        ┆ ---      ┆ ---      ┆ ---   ┆ --- │\n",
       "│ i8   ┆ f64        ┆ f64      ┆ u32      ┆ u32   ┆ cat │\n",
       "╞══════╪════════════╪══════════╪══════════╪═══════╪═════╡\n",
       "│ 5    ┆ 82.208333  ┆ 150.0    ┆ 4        ┆ 49    ┆ M   │\n",
       "│ 6    ┆ 68.836142  ┆ 175.0    ┆ 12       ┆ 137   ┆ M   │\n",
       "│ 7    ┆ 196.82483  ┆ 457.5    ┆ 7        ┆ 67    ┆ M   │\n",
       "│ 8    ┆ 225.898716 ┆ 867.0    ┆ 16       ┆ 412   ┆ M   │\n",
       "│ 9    ┆ 270.754127 ┆ 905.625  ┆ 10       ┆ 168   ┆ M   │\n",
       "│ …    ┆ …          ┆ …        ┆ …        ┆ …     ┆ …   │\n",
       "│ 18   ┆ 287.778834 ┆ 360.0    ┆ 7        ┆ 143   ┆ F   │\n",
       "│ 19   ┆ 275.515789 ┆ 360.0    ┆ 5        ┆ 50    ┆ F   │\n",
       "│ 20   ┆ 172.0      ┆ 324.0    ┆ 2        ┆ 44    ┆ F   │\n",
       "│ 21   ┆ 116.74     ┆ 157.5    ┆ 5        ┆ 109   ┆ F   │\n",
       "│ 22   ┆ 218.859023 ┆ 243.0    ┆ 4        ┆ 82    ┆ F   │\n",
       "└──────┴────────────┴──────────┴──────────┴───────┴─────┘"
      ]
     },
     "execution_count": 53,
     "metadata": {},
     "output_type": "execute_result"
    },
    {
     "data": {
      "image/png": "[encoded data removed]",
      "text/plain": [
       "<Figure size 640x480 with 1 Axes>"
      ]
     },
     "metadata": {},
     "output_type": "display_data"
    }
   ],
   "source": [
    "da.select_stop(aggregated, '5281')\n",
    "# plot_stop_and_route(aggregated, '1899', '560')\n",
    "# plot_stop_and_route(aggregated, '1899', '413')\n",
    "# plot_stop_and_route(aggregated, '5281', '002')\n",
    "# plot_stop_and_route(aggregated, '5281', '004')\n",
    "# plot_stop_and_route(aggregated, '5281', '904')"
   ]
  }
 ],
 "metadata": {
  "kernelspec": {
   "display_name": "Python 3",
   "language": "python",
   "name": "python3"
  },
  "language_info": {
   "codemirror_mode": {
    "name": "ipython",
    "version": 3
   },
   "file_extension": ".py",
   "mimetype": "text/x-python",
   "name": "python",
   "nbconvert_exporter": "python",
   "pygments_lexer": "ipython3",
   "version": "3.10.12"
  }
 },
 "nbformat": 4,
 "nbformat_minor": 2
}
