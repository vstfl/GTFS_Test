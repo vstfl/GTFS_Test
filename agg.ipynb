{
 "cells": [
  {
   "cell_type": "code",
   "execution_count": null,
   "metadata": {},
   "outputs": [],
   "source": [
    "import polars as pl\n",
    "from glob import glob\n",
    "\n",
    "def get_dfs_from_glob(glob_str: str):\n",
    "    return (\n",
    "        pl.concat([\n",
    "            pl.read_csv(i, dtypes={ 'stopid': pl.Utf8, 'routeid': pl.Utf8 }) \n",
    "            for i in glob(glob_str)\n",
    "        ], how='vertical')\n",
    "        .unique()\n",
    "    )\n",
    "\n",
    "dfs = get_dfs_from_glob( 'feb/feb26run*.txt')"
   ]
  },
  {
   "cell_type": "code",
   "execution_count": null,
   "metadata": {},
   "outputs": [],
   "source": [
    "raw_dfs = get_dfs_from_glob('raw_data/raw_trip_*').unique().cast({\n",
    "    'period': pl.Categorical,\n",
    "    'routeid': pl.Categorical,\n",
    "    'stopid': pl.Categorical\n",
    "})"
   ]
  },
  {
   "cell_type": "code",
   "execution_count": null,
   "metadata": {},
   "outputs": [],
   "source": [
    "raw_dfs = pl.read_parquet('raw.parquet').cast({\n",
    "    'period': pl.Categorical,\n",
    "    'routeid': pl.Categorical,\n",
    "    'stopid': pl.Categorical,\n",
    "})"
   ]
  },
  {
   "cell_type": "code",
   "execution_count": null,
   "metadata": {},
   "outputs": [],
   "source": [
    "INTERVAL = 60*10\n",
    "avg_delay = (\n",
    "    raw_dfs\n",
    "    .with_columns(\n",
    "        pl.col('lastupdate')\n",
    "        .floordiv(INTERVAL)\n",
    "        .mul(INTERVAL)\n",
    "        .alias('interval')\n",
    "    )\n",
    "    .group_by([\n",
    "        'id',\n",
    "        'routeid',\n",
    "        'stopid',\n",
    "        'interval',\n",
    "        'period'\n",
    "    ])\n",
    "    .agg(\n",
    "        pl.col('delay')\n",
    "        .abs()\n",
    "        .mean()\n",
    "        .cast(pl.UInt64)\n",
    "        .alias('avgabsdelay'),\n",
    "        pl.col('delay')\n",
    "        .abs()\n",
    "        .max()\n",
    "        .cast(pl.UInt64)\n",
    "        .alias('maxabsdelay')\n",
    "    )\n",
    "    .with_columns(\n",
    "        pl.from_epoch(pl.col('interval'), time_unit='s')\n",
    "    )\n",
    ")"
   ]
  },
  {
   "cell_type": "code",
   "execution_count": null,
   "metadata": {},
   "outputs": [],
   "source": [
    "avg_delay.write_parquet('avg.parquet')"
   ]
  },
  {
   "cell_type": "markdown",
   "metadata": {},
   "source": [
    "Average delay in a stop every 3 minutes\n",
    "10 recordings of a bus"
   ]
  }
 ],
 "metadata": {
  "kernelspec": {
   "display_name": "Python 3",
   "language": "python",
   "name": "python3"
  },
  "language_info": {
   "codemirror_mode": {
    "name": "ipython",
    "version": 3
   },
   "file_extension": ".py",
   "mimetype": "text/x-python",
   "name": "python",
   "nbconvert_exporter": "python",
   "pygments_lexer": "ipython3",
   "version": "3.10.12"
  }
 },
 "nbformat": 4,
 "nbformat_minor": 2
}
