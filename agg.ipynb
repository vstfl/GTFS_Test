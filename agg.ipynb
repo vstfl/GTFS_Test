{
 "cells": [
  {
   "cell_type": "code",
   "execution_count": null,
   "metadata": {},
   "outputs": [],
   "source": [
    "import polars as pl\n",
    "import seaborn as sb\n",
    "import gtfs_delay_analysis as da"
   ]
  },
  {
   "cell_type": "code",
   "execution_count": null,
   "metadata": {},
   "outputs": [],
   "source": [
    "import importlib\n",
    "importlib.reload(da)"
   ]
  },
  {
   "cell_type": "code",
   "execution_count": null,
   "metadata": {},
   "outputs": [],
   "source": [
    "stops = pl.read_csv(\n",
    "    '/home/chrlz/dox/dl/ETS_Bus_Schedule_GTFS_Data_Feed_-_Stops_20240216.csv')"
   ]
  },
  {
   "cell_type": "code",
   "execution_count": null,
   "metadata": {},
   "outputs": [],
   "source": [
    "aggregated = da.load_aggregate_data()"
   ]
  },
  {
   "cell_type": "markdown",
   "metadata": {},
   "source": [
    "So we know that all trip id is unique for a single day, no need to worry about overlaps\n",
    "\n",
    "Average delay in a stop every 3 minutes 10 recordings of a bus\n",
    "\n",
    "AM: 7am-9am\n",
    "PM: 4pm-7pm\n",
    "OFF: 5am-7am, 9am-4-pm, 7pm-10pm"
   ]
  },
  {
   "cell_type": "code",
   "execution_count": null,
   "metadata": {},
   "outputs": [],
   "source": [
    "# 1. Map delay average over week\n",
    "mean_stop = aggregated.pipe(da.agg_group, 'stopid')\n",
    "\n",
    "# 2. Over week by day\n",
    "# TODO: Filter by PEAK, OFF, and DAY\n",
    "by_day_all = aggregated.pipe(da.agg_group, 'day')\n",
    "by_day_peak = (\n",
    "    aggregated\n",
    "    .filter(pl.col('period') != 'OFF')\n",
    "    .pipe(da.agg_group, 'day')\n",
    ")\n",
    "by_day_off = (\n",
    "    aggregated\n",
    "    .filter(pl.col('period') == 'OFF')\n",
    "    .pipe(da.agg_group, 'day')\n",
    ")\n",
    "\n",
    "\n",
    "# 3. Over day by hour\n",
    "by_hour = aggregated.pipe(da.agg_group, 'day', 'hour')\n",
    "\n",
    "# TODO: Select route\n",
    "# 4. Time series graph of route by hour by day\n",
    "\n",
    "\n",
    "highest_delay_stops = (\n",
    "    mean_stop\n",
    "    .group_by('stopid')\n",
    "    .agg(pl.col('avgdelay').max())\n",
    "    .sort('avgdelay', descending=True)\n",
    "    .select('stopid')\n",
    "    .head(100)\n",
    "    .unique()\n",
    "    .join(aggregated, on='stopid')\n",
    ")\n",
    "routes_on_highest_delay_stops = (\n",
    "    highest_delay_stops\n",
    "    .select('routeid')\n",
    "    .unique()\n",
    "    .join(aggregated, on='routeid')\n",
    ")\n",
    "agg_routes_on_highest_delay = (\n",
    "    routes_on_highest_delay_stops\n",
    "    .pipe(da.agg_group, 'routeid')\n",
    "    .drop('lastupdate')\n",
    ")\n",
    "\n",
    "\n",
    "def plot_cols(df: pl.DataFrame, key: str):\n",
    "    tidy = df.melt(id_vars=key).sort(key)\n",
    "    xticks = tidy[key]\n",
    "    ax = sb.barplot(\n",
    "        data=tidy,\n",
    "        x=key,\n",
    "        y='value',\n",
    "        hue='variable',\n",
    "        width=1,\n",
    "        order=xticks,\n",
    "    )\n",
    "    return tidy, ax\n",
    "\n",
    "\n",
    "def plot_by_route(df: pl.DataFrame):\n",
    "    tidy, ax = plot_cols(df, 'routeid')\n",
    "    xticks_unique = tidy['routeid'].unique()\n",
    "    ax.set_xticks(ax.get_xticks(), xticks_unique, rotation=90)\n",
    "\n",
    "\n",
    "# 5. Mapping delay propagations within a route\n",
    "# 6. TODO\n",
    "\n",
    "def plot_stop_and_route(df: pl.DataFrame, stop: str, route: str):\n",
    "    days = pl.DataFrame({\n",
    "        \"day\": [*range(1, 6)],\n",
    "        \"letter\": ['M', 'T', 'W', 'R', 'F'],\n",
    "    }, schema={\"day\": pl.Int8, 'letter': pl.Categorical})\n",
    "    by_day_by_hour_for_stop = (\n",
    "        da.select_stop_and_route(df, stop, route)\n",
    "        .join(days, on='day')\n",
    "        .drop('day')\n",
    "        .rename({'letter': 'day'})\n",
    "    )\n",
    "\n",
    "    ax = sb.barplot(by_day_by_hour_for_stop, x='hour', y='avgdelay', hue='day')\n",
    "    ax.set_title(f'Average delay for route {route} stop {stop}')\n",
    "    return by_day_by_hour_for_stop\n",
    "\n",
    "\n",
    "# select_stop(aggregated, \"2260\")\n",
    "\n",
    "# sb.barplot(by_day_by_hour_for_stop, x='hour', y='maxdelay')\n",
    "\n",
    "\n",
    "highest_delay_stops.select('stopid').unique()\n",
    "\n",
    "plot_stop_and_route(aggregated, \"2260\", \"637\")\n",
    "# da.select_stop(aggregated, \"2260\")"
   ]
  },
  {
   "cell_type": "code",
   "execution_count": null,
   "metadata": {},
   "outputs": [],
   "source": [
    "df = by_day_all.select('day', all=pl.col('avgdelay')).join(\n",
    "    by_day_peak.select('day', peak=pl.col('avgdelay')), on='day'\n",
    ").join(\n",
    "    by_day_off.select('day', off=pl.col('avgdelay')), on='day'\n",
    ")\n",
    "\n",
    "plot_cols(df, 'day') and None\n",
    "\n",
    "# plot_cols(by_hour.select('hour', 'day', 'avgdelay'), 'hour') and None\n",
    "\n",
    "# by_hour\n",
    "\n",
    "# to_plot = by_hour.select('day', 'hour', 'avgdelay')\n",
    "# ax = sb.lineplot(to_plot, x='hour', y='avgdelay', hue='day')\n",
    "# ax.set_xticks([*range(5, 23)]) and None"
   ]
  },
  {
   "cell_type": "code",
   "execution_count": null,
   "metadata": {},
   "outputs": [],
   "source": [
    "(\n",
    "    mean_stop.drop('lastupdate')\n",
    "    .pipe(da.add_coords, stops)\n",
    "    .write_csv('mean-stop.csv')\n",
    ")"
   ]
  },
  {
   "cell_type": "code",
   "execution_count": null,
   "metadata": {},
   "outputs": [],
   "source": [
    "len(mean_stop) - len(mean_stop.filter(pl.col('numtrips') > 200))\n",
    "# len(mean_stop)"
   ]
  },
  {
   "cell_type": "markdown",
   "metadata": {},
   "source": [
    "Some exploration of the `trips.json` file which DOES contain coordinates of the\n",
    "trip\n",
    "\n",
    "From initial observation of the data, each trip may have a unique path, even for\n",
    "the same route (e.g. shorter route for off-peak hours, my bus route home was\n",
    "like that at one point)\n",
    "\n",
    "Other assumptions:\n",
    "- There is only one type of geometry line: MultiLineString\n",
    "- The actual coordinates are wrapped inside another JSON array"
   ]
  },
  {
   "cell_type": "code",
   "execution_count": null,
   "metadata": {},
   "outputs": [],
   "source": [
    "trips = da.load_trips_df()"
   ]
  },
  {
   "cell_type": "code",
   "execution_count": null,
   "metadata": {},
   "outputs": [],
   "source": [
    "pl.Config.set_fmt_str_lengths(1000)\n",
    "trips.sort('route_id')"
   ]
  },
  {
   "cell_type": "code",
   "execution_count": null,
   "metadata": {},
   "outputs": [],
   "source": [
    "import geopolars as gp\n",
    "gp.GeoDataFrame(mean_stop.pipe(da.add_coords, stops)).plot()"
   ]
  },
  {
   "cell_type": "markdown",
   "metadata": {},
   "source": [
    "How many counts should we deem useful for visualization of data?"
   ]
  },
  {
   "cell_type": "code",
   "execution_count": null,
   "metadata": {},
   "outputs": [],
   "source": [
    "pl.Config.set_fmt_table_cell_list_len(100)\n",
    "aggregated['routeid']\n",
    "# 1_250_916"
   ]
  },
  {
   "cell_type": "code",
   "execution_count": null,
   "metadata": {},
   "outputs": [],
   "source": [
    "# da.select_stop(aggregated, '5281')\n",
    "# plot_stop_and_route(aggregated, '1899', '560')\n",
    "# plot_stop_and_route(aggregated, '1899', '413')\n",
    "# plot_stop_and_route(aggregated, '5281', '002')\n",
    "# plot_stop_and_route(aggregated, '5281', '004')\n",
    "# plot_stop_and_route(aggregated, '5281', '904')\n",
    "\n",
    "aggregated.filter(\n",
    "    (pl.col('stopid') == '5281') &\n",
    "    (pl.col('routeid') == '904')\n",
    ").sort('meandelay')\n",
    "# 25529677"
   ]
  },
  {
   "cell_type": "code",
   "execution_count": null,
   "metadata": {},
   "outputs": [],
   "source": [
    "shapes = da.trips.load_parsed_shapes_df()"
   ]
  }
 ],
 "metadata": {
  "kernelspec": {
   "display_name": "Python 3",
   "language": "python",
   "name": "python3"
  },
  "language_info": {
   "codemirror_mode": {
    "name": "ipython",
    "version": 3
   },
   "file_extension": ".py",
   "mimetype": "text/x-python",
   "name": "python",
   "nbconvert_exporter": "python",
   "pygments_lexer": "ipython3",
   "version": "3.10.12"
  }
 },
 "nbformat": 4,
 "nbformat_minor": 2
}
