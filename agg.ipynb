{
 "cells": [
  {
   "cell_type": "code",
   "execution_count": null,
   "metadata": {},
   "outputs": [],
   "source": [
    "import polars as pl\n",
    "from glob import glob\n",
    "import os\n",
    "import seaborn as sb\n",
    "\n",
    "\n",
    "def get_dfs_from_glob(glob_str: str):\n",
    "    dfs = [\n",
    "        pl.read_csv(i, dtypes={'stopid': pl.Utf8, 'routeid': pl.Utf8})\n",
    "        for i in glob(glob_str)\n",
    "    ]\n",
    "    return pl.concat(dfs, how='vertical').unique()\n",
    "\n",
    "\n",
    "def load_raw_data():\n",
    "    \"\"\"\n",
    "    Load raw data from existing parquet file or from CSVs.\n",
    "    \"\"\"\n",
    "    df = (pl.read_parquet('raw.parquet')\n",
    "          if os.path.exists('raw.parquet')\n",
    "          else get_dfs_from_glob('raw_data/raw_trip_*').unique()\n",
    "          )\n",
    "    # Save memory by re-using strings for categorical data\n",
    "    return df.cast({\n",
    "        'period': pl.Categorical,\n",
    "        'routeid': pl.Categorical,\n",
    "        'stopid': pl.Categorical\n",
    "    })\n",
    "\n",
    "\n",
    "MAX_DELAY = 60*30\n",
    "\n",
    "\n",
    "def plot_stop(dfs: pl.DataFrame, stopid: str):\n",
    "    cats = (\n",
    "        dfs\n",
    "        .filter(pl.col('delay').abs() < MAX_DELAY)\n",
    "        .filter(pl.col('stopid') == stopid)\n",
    "        .group_by('id')\n",
    "        .all()\n",
    "        .select('id', 'delay', 'lastupdate')\n",
    "        .with_columns(pl.col('delay').list.len().alias('length'))\n",
    "        .explode('delay', 'lastupdate')\n",
    "        .sort('id', 'lastupdate')\n",
    "        .with_columns(pl.col('id').cast(pl.Utf8).cast(pl.Categorical))\n",
    "    )\n",
    "    sb.scatterplot(cats, x='lastupdate', y='delay', hue='id')"
   ]
  },
  {
   "cell_type": "code",
   "execution_count": null,
   "metadata": {},
   "outputs": [],
   "source": [
    "stops = pl.read_csv(\n",
    "    '/home/chrlz/dox/dl/ETS_Bus_Schedule_GTFS_Data_Feed_-_Stops_20240216.csv')"
   ]
  },
  {
   "cell_type": "code",
   "execution_count": null,
   "metadata": {},
   "outputs": [],
   "source": [
    "raw_dfs = load_raw_data()"
   ]
  },
  {
   "cell_type": "code",
   "execution_count": null,
   "metadata": {},
   "outputs": [],
   "source": [
    "# Loading from the CSVs take like 30 seconds!!!\n",
    "# Save into a more compact form for easier retrieval later\n",
    "raw_dfs.write_parquet('raw.parquet')"
   ]
  },
  {
   "cell_type": "markdown",
   "metadata": {},
   "source": [
    "So we know that all trip id is unique for a single day, no need to worry about overlaps\n",
    "\n",
    "Average delay in a stop every 3 minutes 10 recordings of a bus\n",
    "\n",
    "AM: 7am-9am\n",
    "PM: 4pm-7pm\n",
    "OFF: 5am-7am, 9am-4-pm, 7pm-10pm"
   ]
  },
  {
   "cell_type": "code",
   "execution_count": null,
   "metadata": {},
   "outputs": [],
   "source": [
    "MAX_DELAY = 60 * 20\n",
    "delay = pl.col('delay')\n",
    "aggregated = (\n",
    "    raw_dfs\n",
    "    .with_columns(delay.abs())\n",
    "    .with_columns(\n",
    "        pl.from_epoch('lastupdate', time_unit='s')\n",
    "        # MST\n",
    "        .dt.offset_by('-7h')\n",
    "    )\n",
    "    .with_columns(pl.col('lastupdate').dt.date().alias('date'))\n",
    "    .sort('lastupdate')\n",
    "    .group_by('id', 'stopid', 'date', 'period')\n",
    "    .agg(\n",
    "        pl.col('routeid').first(),\n",
    "        pl.col('lastupdate').max(),\n",
    "        delay.max().alias('maxdelay'),\n",
    "        delay.mean().alias('meandelay'),\n",
    "        delay.median().alias('mediandelay'),\n",
    "        delay.std().alias('stddelay'),\n",
    "        delay\n",
    "    )\n",
    "    .with_columns(pl.col('date').dt.weekday().alias('day'))\n",
    "    .with_columns(pl.col('lastupdate').dt.hour().alias('hour'))\n",
    "    # Just remove trips that are above MAX_DELAY\n",
    "    .filter(pl.col('meandelay') < MAX_DELAY)\n",
    ")"
   ]
  },
  {
   "cell_type": "code",
   "execution_count": null,
   "metadata": {},
   "outputs": [],
   "source": [
    "# 1. Map delay average over week\n",
    "mean_stop = aggregated.group_by('stopid').agg(\n",
    "    pl.col('meandelay').mean().alias('avgdelay'),\n",
    "    pl.col('meandelay').max().alias('maxdelay'),\n",
    ")\n",
    "\n",
    "# 2. Over week by day\n",
    "# TODO: Filter by PEAK, OFF, and DAY\n",
    "by_day_all = aggregated.group_by('day', 'period').agg(\n",
    "    pl.col('meandelay').mean().alias('avgdelay'),\n",
    "    pl.col('meandelay').max().alias('maxdelay'),\n",
    "    pl.col('lastupdate')\n",
    ").sort('day', 'period')\n",
    "\n",
    "by_day_peak = aggregated.filter(pl.col('period') != 'OFF').group_by('day', 'period').agg(\n",
    "    pl.col('meandelay').mean().alias('avgdelay'),\n",
    "    pl.col('meandelay').max().alias('maxdelay'),\n",
    "    pl.col('lastupdate')\n",
    ").sort('day', 'period')\n",
    "\n",
    "by_day_off = aggregated.filter(pl.col('period') == 'OFF').group_by('day', 'period').agg(\n",
    "    pl.col('meandelay').mean().alias('avgdelay'),\n",
    "    pl.col('meandelay').max().alias('maxdelay'),\n",
    "    pl.col('lastupdate')\n",
    ").sort('day', 'period')\n",
    "\n",
    "\n",
    "# 3. Over day by hour\n",
    "by_hour = aggregated.group_by('day', 'hour').agg(\n",
    "    pl.col('meandelay').mean().alias('avgdelay'),\n",
    "    pl.col('meandelay').max().alias('maxdelay'),\n",
    ")\n",
    "\n",
    "# TODO: Select route\n",
    "# 4. Time series graph of route by hour by day\n",
    "\n",
    "# 5. Mapping delay propagations within a route\n",
    "\n",
    "# 6. TODO"
   ]
  },
  {
   "cell_type": "markdown",
   "metadata": {},
   "source": [
    "How many counts should we deem useful for visualization of data?"
   ]
  },
  {
   "cell_type": "code",
   "execution_count": null,
   "metadata": {},
   "outputs": [],
   "source": [
    "pl.Config.set_fmt_table_cell_list_len(100)\n",
    "aggregated['routeid']\n",
    "# 1_250_916"
   ]
  }
 ],
 "metadata": {
  "kernelspec": {
   "display_name": "Python 3",
   "language": "python",
   "name": "python3"
  },
  "language_info": {
   "codemirror_mode": {
    "name": "ipython",
    "version": 3
   },
   "file_extension": ".py",
   "mimetype": "text/x-python",
   "name": "python",
   "nbconvert_exporter": "python",
   "pygments_lexer": "ipython3",
   "version": "3.10.12"
  }
 },
 "nbformat": 4,
 "nbformat_minor": 2
}
