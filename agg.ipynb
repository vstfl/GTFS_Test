{
 "cells": [
  {
   "cell_type": "code",
   "execution_count": null,
   "metadata": {},
   "outputs": [],
   "source": [
    "import polars as pl\n",
    "from glob import glob\n",
    "import os\n",
    "\n",
    "\n",
    "def get_dfs_from_glob(glob_str: str):\n",
    "    return (\n",
    "        pl.concat([\n",
    "            pl.read_csv(i, dtypes={'stopid': pl.Utf8, 'routeid': pl.Utf8})\n",
    "            for i in glob(glob_str)\n",
    "        ], how='vertical')\n",
    "        .unique()\n",
    "    )\n",
    "\n",
    "\n",
    "def load_raw_data():\n",
    "    \"\"\"\n",
    "    Load raw data from existing parquet file or from CSVs.\n",
    "    \"\"\"\n",
    "    df = (pl.read_parquet('raw.parquet')\n",
    "          if os.path.exists('raw.parquet')\n",
    "          else get_dfs_from_glob('raw_data/raw_trip_*').unique()\n",
    "          )\n",
    "    # Save memory by re-using strings for categorical data\n",
    "    return df.cast({\n",
    "        'period': pl.Categorical,\n",
    "        'routeid': pl.Categorical,\n",
    "        'stopid': pl.Categorical\n",
    "    })\n",
    "\n",
    "\n",
    "def divide_by_interval(raw_dfs: pl.DataFrame, interval: int):\n",
    "    return (\n",
    "        raw_dfs\n",
    "        .with_columns(\n",
    "            # Lazy way to group timestamps\n",
    "            pl.col('lastupdate').floordiv(interval).mul(interval),\n",
    "            # Being delayed and being early is the same\n",
    "            pl.col('delay').abs().cast(pl.UInt64),\n",
    "        )\n",
    "        .group_by([\n",
    "            'id',\n",
    "            'routeid',\n",
    "            'stopid',\n",
    "            'lastupdate',\n",
    "            'period',\n",
    "        ])\n",
    "        .agg(\n",
    "            pl.col('delay').mean().alias('avgabsdelay'),\n",
    "            # For determining outliers\n",
    "            pl.col('delay').max().alias('maxabsdelay')\n",
    "        )\n",
    "        .with_columns(\n",
    "            pl.from_epoch('lastupdate', time_unit='s')\n",
    "            .alias('interval')\n",
    "        )\n",
    "    )"
   ]
  },
  {
   "cell_type": "code",
   "execution_count": 13,
   "metadata": {},
   "outputs": [],
   "source": [
    "raw_dfs = load_raw_data()"
   ]
  },
  {
   "cell_type": "code",
   "execution_count": null,
   "metadata": {},
   "outputs": [],
   "source": [
    "avg_delay = divide_by_interval(raw_dfs, 60*10)\n",
    "avg_delay.with_columns(\n",
    "    # Somehow the data isn't in UTC\n",
    "    pl.col('interval').dt.offset_by(\"-7h\")\n",
    ")"
   ]
  },
  {
   "cell_type": "markdown",
   "metadata": {},
   "source": [
    "Average delay in a stop every 3 minutes\n",
    "10 recordings of a bus"
   ]
  }
 ],
 "metadata": {
  "kernelspec": {
   "display_name": "Python 3",
   "language": "python",
   "name": "python3"
  },
  "language_info": {
   "codemirror_mode": {
    "name": "ipython",
    "version": 3
   },
   "file_extension": ".py",
   "mimetype": "text/x-python",
   "name": "python",
   "nbconvert_exporter": "python",
   "pygments_lexer": "ipython3",
   "version": "3.10.12"
  }
 },
 "nbformat": 4,
 "nbformat_minor": 2
}
